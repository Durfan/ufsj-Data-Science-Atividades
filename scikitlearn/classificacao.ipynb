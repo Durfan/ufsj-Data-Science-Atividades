{
 "cells": [
  {
   "cell_type": "code",
   "execution_count": 1,
   "metadata": {
    "collapsed": false,
    "jupyter": {
     "outputs_hidden": false
    }
   },
   "outputs": [],
   "source": [
    "%matplotlib inline"
   ]
  },
  {
   "cell_type": "code",
   "execution_count": null,
   "metadata": {},
   "outputs": [],
   "source": []
  },
  {
   "cell_type": "markdown",
   "metadata": {},
   "source": [
    "\n",
    "# Reconhecimento de digitos escritos à mão\n",
    "\n",
    "Este exemplo mostra como o scikit-learn pode ser usado para reconhecer imagens de dígitos escritos à mão, de 0-9\n"
   ]
  },
  {
   "cell_type": "code",
   "execution_count": 2,
   "metadata": {
    "collapsed": false,
    "jupyter": {
     "outputs_hidden": false
    }
   },
   "outputs": [
    {
     "name": "stdout",
     "output_type": "stream",
     "text": [
      "Automatically created module for IPython interactive environment\n"
     ]
    }
   ],
   "source": [
    "print(__doc__)\n",
    "\n",
    "# Author: Gael Varoquaux\n",
    "# License: BSD 3 clause\n",
    "\n",
    "# importação de bibliotecas padrões\n",
    "import matplotlib.pyplot as plt\n",
    "\n",
    "# Importação de datasets, classificadores and métricas de performance\n",
    "from sklearn import datasets, svm, metrics\n",
    "from sklearn.model_selection import train_test_split\n",
    "from sklearn.neural_network import MLPClassifier\n",
    "from sklearn.neighbors import KNeighborsClassifier\n",
    "from sklearn.svm import SVC\n",
    "from sklearn.gaussian_process import GaussianProcessClassifier\n",
    "from sklearn.gaussian_process.kernels import RBF\n",
    "from sklearn.tree import DecisionTreeClassifier\n",
    "from sklearn.ensemble import RandomForestClassifier, AdaBoostClassifier\n",
    "from sklearn.naive_bayes import GaussianNB\n",
    "from sklearn.discriminant_analysis import QuadraticDiscriminantAnalysis"
   ]
  },
  {
   "cell_type": "markdown",
   "metadata": {},
   "source": [
    "## Dataset de dígitos\n",
    "\n",
    "Os dígitos do dataset consistem em imagens pixeladas 8x8 dos dígitos.\n",
    "\n",
    "Os atributos das imagens armazenam um array 8x8 de valores de escala de cinza para cada imagem.\n",
    "\n",
    "Os arrays serão utilizados para vusualizar as imagens logo  abaixo. O atributo alvo do dataset armazena o dígito que cada imagem representa e este está incluído no tíutlo das imagens.\n",
    "\n"
   ]
  },
  {
   "cell_type": "code",
   "execution_count": 3,
   "metadata": {
    "collapsed": false,
    "jupyter": {
     "outputs_hidden": false
    }
   },
   "outputs": [
    {
     "data": {
      "image/png": "[encoded data removed]",
      "text/plain": [
       "<Figure size 720x216 with 4 Axes>"
      ]
     },
     "metadata": {
      "needs_background": "light"
     },
     "output_type": "display_data"
    }
   ],
   "source": [
    "#carrega o dataset\n",
    "digits = datasets.load_digits()\n",
    "\n",
    "#mostra as imagens\n",
    "_, axes = plt.subplots(nrows=1, ncols=4, figsize=(10, 3))\n",
    "for ax, image, label in zip(axes, digits.images, digits.target):\n",
    "    ax.set_axis_off()\n",
    "    ax.imshow(image, cmap=plt.cm.gray_r, interpolation='nearest')\n",
    "    ax.set_title('Training: %i' % label)"
   ]
  },
  {
   "cell_type": "markdown",
   "metadata": {},
   "source": [
    "## Classificação\n",
    "\n",
    "Para aplicar o classificador neste dataset é necessário transformar a matriz em um vetor de 64 posições\n",
    "O dataset será da forma ``(n_samples, n_features)``, onde ``n_samples`` é o número de imagens e ``n_features`` é o número de pixels de cada imagem.\n",
    "\n",
    "Nós podemos dividir os dados em dois conjuntos, um de treino e um de teste e ajustar o classficador. Com o classificador ajustado pode-se realizar a predição do conjunto de teste.\n"
   ]
  },
  {
   "cell_type": "code",
   "execution_count": 27,
   "metadata": {
    "collapsed": false,
    "jupyter": {
     "outputs_hidden": false
    }
   },
   "outputs": [
    {
     "data": {
      "text/plain": [
       "(1797,\n",
       " 180,\n",
       " array([5, 8, 8, 0, 8, 7, 6, 3, 2, 2, 4, 7, 2, 3, 8, 3, 7, 8, 7, 6, 1, 4,\n",
       "        3, 8, 4, 0, 5, 3, 4, 9, 4, 2, 1, 5, 4, 4, 7, 8, 8, 5, 7, 3, 5, 7,\n",
       "        4, 9, 0, 8, 7, 8, 0, 8, 8, 5, 4, 5, 6, 7, 8, 3, 0, 1, 8, 8, 4, 5,\n",
       "        6, 1, 3, 3, 0, 8, 8, 8, 4, 5, 6, 7, 3, 9, 0, 3, 5, 3, 6, 5, 0, 9,\n",
       "        8, 9, 8, 4, 8, 7, 8, 8, 5, 8, 0, 0, 6, 2, 7, 8, 2, 0, 8, 2, 6, 8,\n",
       "        8, 8, 1, 8, 4, 6, 6, 6, 4, 3, 8, 4, 0, 3, 4, 7, 3, 8, 0, 0, 4, 7,\n",
       "        6, 8, 8, 8, 7, 4, 6, 3, 8, 8, 3, 8, 7, 6, 8, 4, 3, 1, 1, 0, 5, 3,\n",
       "        6, 3, 6, 8, 7, 5, 4, 4, 7, 8, 3, 2, 2, 4, 7, 3, 2, 4, 8, 8, 4, 3,\n",
       "        0, 8, 3, 8]))"
      ]
     },
     "execution_count": 27,
     "metadata": {},
     "output_type": "execute_result"
    }
   ],
   "source": [
    "# imagens\n",
    "n_samples = len(digits.images)\n",
    "data = digits.images.reshape((n_samples, -1))\n",
    "\n",
    "classificadores = [\n",
    "    KNeighborsClassifier(2),\n",
    "    SVC(kernel=\"linear\", C=0.025),\n",
    "    SVC(gamma=0.001),\n",
    "    GaussianProcessClassifier(1.0 * RBF(1.0)),\n",
    "    DecisionTreeClassifier(max_depth=5),\n",
    "    RandomForestClassifier(max_depth=5, n_estimators=10, max_features=1),\n",
    "    MLPClassifier(alpha=1, max_iter=1000),\n",
    "    AdaBoostClassifier(),\n",
    "    GaussianNB(),\n",
    "    QuadraticDiscriminantAnalysis()]\n",
    "\n",
    "# Criando um classificador: clssificador vetor suporte\n",
    "#clf = svm.SVC(gamma=0.001)\n",
    "#clf = classificadores[4]\n",
    "clf = DecisionTreeClassifier(max_depth=5)\n",
    "#clf = AdaBoostClassifier(n_estimators=100)\n",
    "# Dividindo os dados em dois conjuntos  50% treino e 50% teste\n",
    "X_train, X_test, y_train, y_test = train_test_split(\n",
    "    data, digits.target, test_size=0.1, shuffle=False)\n",
    "\n",
    "# apredendo os digitos com o conjunto de treino\n",
    "clf.fit(X_train, y_train)\n",
    "\n",
    "# Predizendo os valores dos dígitos do conjunto de teste\n",
    "predicted = clf.predict(X_test)\n",
    "n_samples, len(predicted), predicted"
   ]
  },
  {
   "cell_type": "markdown",
   "metadata": {},
   "source": [
    "4 exemplos de imagens e seus valores preditos\n",
    "\n"
   ]
  },
  {
   "cell_type": "code",
   "execution_count": 28,
   "metadata": {
    "collapsed": false,
    "jupyter": {
     "outputs_hidden": false
    }
   },
   "outputs": [
    {
     "data": {
      "image/png": "[encoded data removed]",
      "text/plain": [
       "<Figure size 720x216 with 4 Axes>"
      ]
     },
     "metadata": {
      "needs_background": "light"
     },
     "output_type": "display_data"
    }
   ],
   "source": [
    "_, axes = plt.subplots(nrows=1, ncols=4, figsize=(10, 3))\n",
    "for ax, image, prediction in zip(axes, X_test, predicted):\n",
    "    ax.set_axis_off()\n",
    "    image = image.reshape(8, 8)\n",
    "    ax.imshow(image, cmap=plt.cm.gray_r, interpolation='nearest')\n",
    "    ax.set_title(f'Predito: {prediction}')"
   ]
  },
  {
   "cell_type": "markdown",
   "metadata": {},
   "source": [
    ":func:`~sklearn.metrics.classification_report` builds a text report showing\n",
    "the main classification metrics.\n",
    "\n"
   ]
  },
  {
   "cell_type": "code",
   "execution_count": 29,
   "metadata": {
    "collapsed": false,
    "jupyter": {
     "outputs_hidden": false
    }
   },
   "outputs": [
    {
     "name": "stdout",
     "output_type": "stream",
     "text": [
      "Relatório de métricas de qualidade da classificação DecisionTreeClassifier(max_depth=5):\n",
      "              precision    recall  f1-score   support\n",
      "\n",
      "           0       1.00      1.00      1.00        16\n",
      "           1       0.29      0.11      0.15        19\n",
      "           2       0.60      0.35      0.44        17\n",
      "           3       0.33      0.44      0.38        18\n",
      "           4       0.71      0.85      0.77        20\n",
      "           5       0.93      0.72      0.81        18\n",
      "           6       0.94      0.83      0.88        18\n",
      "           7       0.74      0.74      0.74        19\n",
      "           8       0.27      0.71      0.39        17\n",
      "           9       1.00      0.28      0.43        18\n",
      "\n",
      "    accuracy                           0.60       180\n",
      "   macro avg       0.68      0.60      0.60       180\n",
      "weighted avg       0.68      0.60      0.60       180\n",
      "\n",
      "\n"
     ]
    }
   ],
   "source": [
    "print(f\"Relatório de métricas de qualidade da classificação {clf}:\\n\"\n",
    "      f\"{metrics.classification_report(y_test, predicted)}\\n\")"
   ]
  },
  {
   "cell_type": "markdown",
   "metadata": {},
   "source": [
    "Nós podemos plotar a matrix de confusão `confusion matrix <confusion_matrix>` dos dígitos reais e dos dígitos preditos.\n",
    "\n"
   ]
  },
  {
   "cell_type": "code",
   "execution_count": 30,
   "metadata": {
    "collapsed": false,
    "jupyter": {
     "outputs_hidden": false
    }
   },
   "outputs": [
    {
     "name": "stdout",
     "output_type": "stream",
     "text": [
      "Matriz de Confusão:\n",
      "[[16  0  0  0  0  0  0  0  0  0]\n",
      " [ 0  2  2  0  1  0  0  0 14  0]\n",
      " [ 0  0  6  0  0  0  1  1  9  0]\n",
      " [ 0  1  0  8  0  1  0  0  8  0]\n",
      " [ 0  1  0  0 17  0  0  2  0  0]\n",
      " [ 0  0  1  1  3 13  0  0  0  0]\n",
      " [ 0  0  1  0  2  0 15  0  0  0]\n",
      " [ 0  2  0  0  1  0  0 14  2  0]\n",
      " [ 0  1  0  4  0  0  0  0 12  0]\n",
      " [ 0  0  0 11  0  0  0  2  0  5]]\n"
     ]
    },
    {
     "data": {
      "image/png": "[encoded data removed]",
      "text/plain": [
       "<Figure size 432x288 with 2 Axes>"
      ]
     },
     "metadata": {
      "needs_background": "light"
     },
     "output_type": "display_data"
    }
   ],
   "source": [
    "disp = metrics.plot_confusion_matrix(clf, X_test, y_test)\n",
    "disp.figure_.suptitle(\"Matriz de Confusão\")\n",
    "print(f\"Matriz de Confusão:\\n{disp.confusion_matrix}\")\n",
    "\n",
    "plt.show()"
   ]
  },
  {
   "cell_type": "code",
   "execution_count": null,
   "metadata": {},
   "outputs": [],
   "source": []
  },
  {
   "cell_type": "code",
   "execution_count": null,
   "metadata": {},
   "outputs": [],
   "source": []
  }
 ],
 "metadata": {
  "kernelspec": {
   "display_name": "Python 3 (ipykernel)",
   "language": "python",
   "name": "python3"
  },
  "language_info": {
   "codemirror_mode": {
    "name": "ipython",
    "version": 3
   },
   "file_extension": ".py",
   "mimetype": "text/x-python",
   "name": "python",
   "nbconvert_exporter": "python",
   "pygments_lexer": "ipython3",
   "version": "3.7.3"
  }
 },
 "nbformat": 4,
 "nbformat_minor": 4
}
