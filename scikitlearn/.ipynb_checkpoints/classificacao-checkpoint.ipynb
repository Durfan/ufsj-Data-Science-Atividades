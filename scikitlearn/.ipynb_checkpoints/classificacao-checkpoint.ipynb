{
 "cells": [
  {
   "cell_type": "code",
   "execution_count": 1,
   "metadata": {
    "collapsed": false,
    "jupyter": {
     "outputs_hidden": false
    }
   },
   "outputs": [],
   "source": [
    "%matplotlib inline"
   ]
  },
  {
   "cell_type": "code",
   "execution_count": null,
   "metadata": {},
   "outputs": [],
   "source": []
  },
  {
   "cell_type": "markdown",
   "metadata": {},
   "source": [
    "\n",
    "# Reconhecimento de digitos escritos à mão\n",
    "\n",
    "Este exemplo mostra como o scikit-learn pode ser usado para reconhecer imagens de dígitos escritos à mão, de 0-9\n"
   ]
  },
  {
   "cell_type": "code",
   "execution_count": 1,
   "metadata": {
    "collapsed": false,
    "jupyter": {
     "outputs_hidden": false
    }
   },
   "outputs": [
    {
     "name": "stdout",
     "output_type": "stream",
     "text": [
      "Automatically created module for IPython interactive environment\n"
     ]
    }
   ],
   "source": [
    "print(__doc__)\n",
    "\n",
    "# Author: Gael Varoquaux\n",
    "# License: BSD 3 clause\n",
    "\n",
    "# importação de bibliotecas padrões\n",
    "import matplotlib.pyplot as plt\n",
    "\n",
    "# Importação de datasets, classificadores and métricas de performance\n",
    "from sklearn import datasets, svm, metrics\n",
    "from sklearn.model_selection import train_test_split\n",
    "from sklearn.neural_network import MLPClassifier\n",
    "from sklearn.neighbors import KNeighborsClassifier\n",
    "from sklearn.svm import SVC\n",
    "from sklearn.gaussian_process import GaussianProcessClassifier\n",
    "from sklearn.gaussian_process.kernels import RBF\n",
    "from sklearn.tree import DecisionTreeClassifier\n",
    "from sklearn.ensemble import RandomForestClassifier, AdaBoostClassifier\n",
    "from sklearn.naive_bayes import GaussianNB\n",
    "from sklearn.discriminant_analysis import QuadraticDiscriminantAnalysis"
   ]
  },
  {
   "cell_type": "markdown",
   "metadata": {},
   "source": [
    "## Dataset de dígitos\n",
    "\n",
    "Os dígitos do dataset consistem em imagens pixeladas 8x8 dos dígitos.\n",
    "\n",
    "Os atributos das imagens armazenam um array 8x8 de valores de escala de cinza para cada imagem.\n",
    "\n",
    "Os arrays serão utilizados para vusualizar as imagens logo  abaixo. O atributo alvo do dataset armazena o dígito que cada imagem representa e este está incluído no tíutlo das imagens.\n",
    "\n"
   ]
  },
  {
   "cell_type": "code",
   "execution_count": 2,
   "metadata": {
    "collapsed": false,
    "jupyter": {
     "outputs_hidden": false
    }
   },
   "outputs": [
    {
     "data": {
      "image/png": "[encoded data removed]",
      "text/plain": [
       "<Figure size 720x216 with 4 Axes>"
      ]
     },
     "metadata": {
      "needs_background": "light"
     },
     "output_type": "display_data"
    }
   ],
   "source": [
    "#carrega o dataset\n",
    "digits = datasets.load_digits()\n",
    "\n",
    "#mostra as imagens\n",
    "_, axes = plt.subplots(nrows=1, ncols=4, figsize=(10, 3))\n",
    "for ax, image, label in zip(axes, digits.images, digits.target):\n",
    "    ax.set_axis_off()\n",
    "    ax.imshow(image, cmap=plt.cm.gray_r, interpolation='nearest')\n",
    "    ax.set_title('Training: %i' % label)"
   ]
  },
  {
   "cell_type": "markdown",
   "metadata": {},
   "source": [
    "## Classificação\n",
    "\n",
    "Para aplicar o classificador neste dataset é necessário transformar a matriz em um vetor de 64 posições\n",
    "O dataset será da forma ``(n_samples, n_features)``, onde ``n_samples`` é o número de imagens e ``n_features`` é o número de pixels de cada imagem.\n",
    "\n",
    "Nós podemos dividir os dados em dois conjuntos, um de treino e um de teste e ajustar o classficador. Com o classificador ajustadi pode-se realizar a predição do conjunto de teste.\n"
   ]
  },
  {
   "cell_type": "code",
   "execution_count": 11,
   "metadata": {
    "collapsed": false,
    "jupyter": {
     "outputs_hidden": false
    }
   },
   "outputs": [],
   "source": [
    "# imagens\n",
    "n_samples = len(digits.images)\n",
    "data = digits.images.reshape((n_samples, -1))\n",
    "\n",
    "classificadores = [\n",
    "    KNeighborsClassifier(2),\n",
    "    SVC(kernel=\"linear\", C=0.025),\n",
    "    SVC(gamma=0.001),\n",
    "    GaussianProcessClassifier(1.0 * RBF(1.0)),\n",
    "    DecisionTreeClassifier(max_depth=5),\n",
    "    RandomForestClassifier(max_depth=5, n_estimators=10, max_features=1),\n",
    "    MLPClassifier(alpha=1, max_iter=1000),\n",
    "    AdaBoostClassifier(),\n",
    "    GaussianNB(),\n",
    "    QuadraticDiscriminantAnalysis()]\n",
    "\n",
    "# Criando um classificador: clssificador vetor suporte\n",
    "#clf = svm.SVC(gamma=0.001)\n",
    "clf = classificadores[4]\n",
    "\n",
    "\n",
    "# Dividindo os dados em dois conjuntos  50% treino e 50% teste\n",
    "X_train, X_test, y_train, y_test = train_test_split(\n",
    "    data, digits.target, test_size=0.5, shuffle=False)\n",
    "\n",
    "# apredendo os digitos com o conjunto de treino\n",
    "clf.fit(X_train, y_train)\n",
    "\n",
    "# Predizendo os valores dos dígitos do conjunto de teste\n",
    "predicted = clf.predict(X_test)"
   ]
  },
  {
   "cell_type": "markdown",
   "metadata": {},
   "source": [
    "4 exemplos de imagens e seus valores preditos\n",
    "\n"
   ]
  },
  {
   "cell_type": "code",
   "execution_count": 12,
   "metadata": {
    "collapsed": false,
    "jupyter": {
     "outputs_hidden": false
    }
   },
   "outputs": [
    {
     "data": {
      "image/png": "[encoded data removed]",
      "text/plain": [
       "<Figure size 720x216 with 4 Axes>"
      ]
     },
     "metadata": {
      "needs_background": "light"
     },
     "output_type": "display_data"
    }
   ],
   "source": [
    "_, axes = plt.subplots(nrows=1, ncols=4, figsize=(10, 3))\n",
    "for ax, image, prediction in zip(axes, X_test, predicted):\n",
    "    ax.set_axis_off()\n",
    "    image = image.reshape(8, 8)\n",
    "    ax.imshow(image, cmap=plt.cm.gray_r, interpolation='nearest')\n",
    "    ax.set_title(f'Predito: {prediction}')"
   ]
  },
  {
   "cell_type": "markdown",
   "metadata": {},
   "source": [
    ":func:`~sklearn.metrics.classification_report` builds a text report showing\n",
    "the main classification metrics.\n",
    "\n"
   ]
  },
  {
   "cell_type": "code",
   "execution_count": 13,
   "metadata": {
    "collapsed": false,
    "jupyter": {
     "outputs_hidden": false
    }
   },
   "outputs": [
    {
     "name": "stdout",
     "output_type": "stream",
     "text": [
      "Relatório de métricas de qualidade da classificação DecisionTreeClassifier(max_depth=5):\n",
      "              precision    recall  f1-score   support\n",
      "\n",
      "           0       0.92      0.91      0.91        88\n",
      "           1       0.48      0.52      0.50        91\n",
      "           2       0.47      0.78      0.58        86\n",
      "           3       0.69      0.76      0.72        91\n",
      "           4       0.75      0.47      0.58        92\n",
      "           5       0.50      0.76      0.61        91\n",
      "           6       0.87      0.75      0.80        91\n",
      "           7       0.70      0.82      0.76        89\n",
      "           8       0.57      0.05      0.08        88\n",
      "           9       0.66      0.63      0.64        92\n",
      "\n",
      "    accuracy                           0.64       899\n",
      "   macro avg       0.66      0.64      0.62       899\n",
      "weighted avg       0.66      0.64      0.62       899\n",
      "\n",
      "\n"
     ]
    }
   ],
   "source": [
    "print(f\"Relatório de métricas de qualidade da classificação {clf}:\\n\"\n",
    "      f\"{metrics.classification_report(y_test, predicted)}\\n\")"
   ]
  },
  {
   "cell_type": "markdown",
   "metadata": {},
   "source": [
    "Nós podemos plotar a matrix de confusão `confusion matrix <confusion_matrix>` dos dígitos reais e dos dígitos preditos.\n",
    "\n"
   ]
  },
  {
   "cell_type": "code",
   "execution_count": 14,
   "metadata": {
    "collapsed": false,
    "jupyter": {
     "outputs_hidden": false
    }
   },
   "outputs": [
    {
     "name": "stdout",
     "output_type": "stream",
     "text": [
      "Matriz de Confusão:\n",
      "[[80  0  1  0  1  2  2  0  0  2]\n",
      " [ 0 47 11  6  7  6  0  5  0  9]\n",
      " [ 1  2 67  5  1  1  4  0  0  5]\n",
      " [ 0  2  7 69  0  5  0  5  1  2]\n",
      " [ 5 34  0  0 43  4  2  2  0  2]\n",
      " [ 0  0  2  1  1 69  1  8  0  9]\n",
      " [ 1  5  6  0  0 11 68  0  0  0]\n",
      " [ 0  1  0  7  0  8  0 73  0  0]\n",
      " [ 0  3 49  8  3 13  1  6  4  1]\n",
      " [ 0  3  1  4  1 18  0  5  2 58]]\n"
     ]
    },
    {
     "data": {
      "image/png": "[encoded data removed]",
      "text/plain": [
       "<Figure size 432x288 with 2 Axes>"
      ]
     },
     "metadata": {
      "needs_background": "light"
     },
     "output_type": "display_data"
    }
   ],
   "source": [
    "disp = metrics.plot_confusion_matrix(clf, X_test, y_test)\n",
    "disp.figure_.suptitle(\"Matriz de Confusão\")\n",
    "print(f\"Matriz de Confusão:\\n{disp.confusion_matrix}\")\n",
    "\n",
    "plt.show()"
   ]
  },
  {
   "cell_type": "code",
   "execution_count": null,
   "metadata": {},
   "outputs": [],
   "source": []
  },
  {
   "cell_type": "code",
   "execution_count": null,
   "metadata": {},
   "outputs": [],
   "source": []
  }
 ],
 "metadata": {
  "kernelspec": {
   "display_name": "Python 3",
   "language": "python",
   "name": "python3"
  },
  "language_info": {
   "codemirror_mode": {
    "name": "ipython",
    "version": 3
   },
   "file_extension": ".py",
   "mimetype": "text/x-python",
   "name": "python",
   "nbconvert_exporter": "python",
   "pygments_lexer": "ipython3",
   "version": "3.7.3"
  }
 },
 "nbformat": 4,
 "nbformat_minor": 4
}
